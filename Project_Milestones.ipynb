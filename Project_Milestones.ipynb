{
 "cells": [
     {
   "cell_type": "markdown",
   "metadata": {},
   "source": [
    "## April 26th Milestone\n",
    "### Madison Karrh, Brent Perez, Samuel Remedios, Michael Schmidt, John Westbrooks"
   ]
  },
  {
   "cell_type": "markdown",
   "metadata": {},
   "source": [
    "<table>\n",
    "\n",
    "<tr>\n",
    "<th><p>*Deliverable*</p></th>\n",
    "<th><p>*Percent Complete*</p></th>\n",
    "<th><p>*Estimated Completion Date*</p></th>\n",
    "<th><p>*Percent Complete by May 3rd*</p></th>\n",
    "</tr>\n",
    "\n",
    "\n",
    "<tr>\n",
    "<td><p>Code</p></td>\n",
    "<td><p>$100$%</p></td>\n",
    "<td><p>Completed</p></td>\n",
    "<td><p>-</p></td>\n",
    "</tr>\n",
    "\n",
    "<tr>\n",
    "<td><p>Paper</p>\n",
    "</td><td><p>$100$%</p></td>\n",
    "<td><p>Completed</p></td>\n",
    "<td><p>-</p></td>\n",
    "</tr>\n",
    "\n",
    "<tr>\n",
    "<td><p>Demo</p>\n",
    "</td><td><p>$40$%</p></td>\n",
    "<td><p>May $3$rd</p></td>\n",
    "<td><p>$100$%</p></td>\n",
    "</tr>\n",
    "\n",
    "<tr>\n",
    "<td><p>Presentation</p>\n",
    "</td><td><p>$50$%</p></td>\n",
    "<td><p>May $3$rd</p></td>\n",
    "<td><p>$100$%</p></td>\n",
    "</tr>\n",
    "\n",
    "</table>"
   ]
  },
  {
   "cell_type": "markdown",
   "metadata": {},
   "source": [
    "1.Both deliverable goals of finishing the paper and code were met since the last milestone.\n",
    "\n",
    "2. All goals set in the last milestone to be accomplished by this time were accomplished.\n",
    "\n",
    "3. The next deliverable goal is to have both the demo and presentation by May 3rd. John, Brent, and Mike will develop the demo with the oversight and input of Sam and Madison. Furthermore, every team member will contribute to the presentation.\n"
   ]
  },
   {
   "cell_type": "markdown",
   "metadata": {},
   "source": [
    "## April 12th Milestone\n",
    "### Madison Karrh, Brent Perez, Samuel Remedios, Michael Schmidt, John Westbrooks"
   ]
  },
  {
   "cell_type": "markdown",
   "metadata": {},
   "source": [
    "<table>\n",
    "\n",
    "<tr>\n",
    "<th><p>*Deliverable*</p></th>\n",
    "<th><p>*Percent Complete*</p></th>\n",
    "<th><p>*Estimated Completion Date*</p></th>\n",
    "<th><p>*Percent Complete by April 26th*</p></th>\n",
    "</tr>\n",
    "\n",
    "\n",
    "<tr>\n",
    "<td><p>Code</p></td>\n",
    "<td><p>$90$%</p></td>\n",
    "<td><p>April $19$th</p></td>\n",
    "<td><p>$100$%</p></td>\n",
    "</tr>\n",
    "\n",
    "<tr>\n",
    "<td><p>Paper</p>\n",
    "</td><td><p>$50$%</p></td>\n",
    "<td><p>April $24$th</p></td>\n",
    "<td><p>$80$%</p></td>\n",
    "</tr>\n",
    "\n",
    "<tr>\n",
    "<td><p>Demo</p>\n",
    "</td><td><p>$0$%</p></td>\n",
    "<td><p>May $1$st</p></td>\n",
    "<td><p>$50$%</p></td>\n",
    "</tr>\n",
    "\n",
    "<tr>\n",
    "<td><p>Presentation</p>\n",
    "</td><td><p>$0$%</p></td>\n",
    "<td><p>May $1$st</p></td>\n",
    "<td><p>$50$%</p></td>\n",
    "</tr>\n",
    "\n",
    "</table>"
   ]
  },
  {
   "cell_type": "markdown",
   "metadata": {},
   "source": [
    "1.While the group progressed on both the paper and the code, the group once again did not reach our estimated goals, but things are begining to fall into place. Brent and John finished constructing a LSTM network, and were able to verify that some sample data could flow through the LSTM network.In addition, further familiarized themselves with more advanced features of Keras. \n",
    "\n",
    " Madison created a Markov chain model which creates a file 1000 sequential sentences to compare quantitively to our LSTM model. In addition, she has ensured the mappings of word embeddings, and generated code to replace words in the corpus with their respective embeddings and parts of speech.\n",
    "\n",
    " Mike cleaned the data by appending \"START\" and \"END\" tokens. He has finished his K-means approach to relate the output of vectors from the RNN to the closest word in our word2vec space. In addition, Mike also implemented regular expressions to further clean the data by ensuring punctuation such as \"Mr.\" or \"Ms.\" is not interpreted as a terminal punctation mark.\n",
    "\n",
    " Sam made considerable progress on the paper, and contributed greatly to the overall project data flow while snapping vectors to words in our dictionary. \n",
    "\n",
    "2.Considerable progress was made, but not to the desired percentage. The RNN has been built, and the paper is halfway completed. The demo and presentation are still on hold for the time being. \n",
    "\n",
    "3.Madison will begin preparations for creating distance metrics. Brent and John will further fine tune the architecture and optimization of the model, and continue to work on code alongside Sam. Sam will continue working on the paper, and assist Brent and John with finishing the remaining code. Micheal will continue cleaning the data, and implementing the parser. Finally, the group will begin creating the project demo, and final presentation.\n"
   ]
  },
  
  {
   "cell_type": "markdown",
   "metadata": {},
   "source": [
    "## March 29 Milestone\n",
    "### Madison Karrh, Brent Perez, Samuel Remedios, Michael Schmidt, John Westbrooks"
   ]
  },
  {
   "cell_type": "markdown",
   "metadata": {},
   "source": [
    "<table>\n",
    "\n",
    "<tr>\n",
    "<th><p>*Deliverable*</p></th>\n",
    "<th><p>*Percent Complete*</p></th>\n",
    "<th><p>*Estimated Completion Date*</p></th>\n",
    "<th><p>*Percent Complete by April 12th*</p></th>\n",
    "</tr>\n",
    "\n",
    "\n",
    "<tr>\n",
    "<td><p>Code</p></td>\n",
    "<td><p>$60$%</p></td>\n",
    "<td><p>April $10$th</p></td>\n",
    "<td><p>$100$%</p></td>\n",
    "</tr>\n",
    "\n",
    "<tr>\n",
    "<td><p>Paper</p>\n",
    "</td><td><p>$15$%</p></td>\n",
    "<td><p>April $15$th</p></td>\n",
    "<td><p>$80$%</p></td>\n",
    "</tr>\n",
    "\n",
    "<tr>\n",
    "<td><p>Demo</p>\n",
    "</td><td><p>$0$%</p></td>\n",
    "<td><p>April $19$th</p></td>\n",
    "<td><p>$50$%</p></td>\n",
    "</tr>\n",
    "\n",
    "<tr>\n",
    "<td><p>Presentation</p>\n",
    "</td><td><p>$0$%</p></td>\n",
    "<td><p>April $19$th</p></td>\n",
    "<td><p>$50$%</p></td>\n",
    "</tr>\n",
    "\n",
    "</table>"
   ]
  },
  {
   "cell_type": "markdown",
   "metadata": {},
   "source": [
    "1. None of our goals were accomplished to the desired percentage, though progress was still made in both the paper and the code.  We now have code which finds the proper word embeddings for our corpus and saves the mappings of original word : embedding to an hdf5 file.  Similarly, we can find the parts of speech for all words.\n",
    "\n",
    "    Metrics have also been found and implemented, where a log Markov transition probability shows the similarity between two corpuses.  Additionally, we have found a library of several string distance and similarity metrics, and will investigate its use with regards to our task.\n",
    "    \n",
    "2. Although progress was made, we did not achieve our ideal milestone.  Our RNN still has not been built, and our data preprocessing pipeline has not been tested.  The paper has been started but not to the extent we would have liked.  Neither the demo nor presentation have seen any work, though this is expected as some working model is required first.\n",
    "\n",
    "3. For the next milestone on April $12$th, our code should be complete.  We should be able to trace the flow of data from unprocessed to processed through the neural network, interpret the output, and make use of our chosen metrics to judge the model.  Although we intend for the code to be done by this date, we may still need to tweak model architecture or data processing to get the desired text generation quality.\n",
    "\n",
    "    Specifically, Mike will validate that the data is cleaned and \"START\" and \"END\" tokens have been added.  He will also build a K-means approach to relate the output vectors from the RNN to the closest word vector in our word2vec space.\n",
    "    \n",
    "    Madison will first ensure that our mapping of word:embedding is correct, and also write code to replace words in the corpus with their respective embedding and part of speech.\n",
    "\n",
    "    Brent and John will implement an LSTM and verify that some sample data can flow through it. Care will be taken to decide on our loss function, as well as the shape of the output data.\n",
    "    \n",
    "    Sam will find appropriate metrics to measure the quality of the data, and continue work on the paper.  A rough draft of the paper should be done about five days after all the code has been completed. Additionally, Sam will look at the overall data flow and the cohesiveness of each team members' code."
   ]
  },
  {
   "cell_type": "markdown",
   "metadata": {},
   "source": [
    "## March 15 Milestone\n",
    "### Madison Karrh, Brent Perez, Samuel Remedios, Michael Schmidt, John Westbrooks"
   ]
  },
  {
   "cell_type": "markdown",
   "metadata": {},
   "source": [
    "<table>\n",
    "\n",
    "<tr>\n",
    "<th><p>*Deliverable*</p></th>\n",
    "<th><p>*Percent Complete*</p></th>\n",
    "<th><p>*Estimated Completion Date*</p></th>\n",
    "<th><p>*Percent Complete by March 29th*</p></th>\n",
    "</tr>\n",
    "\n",
    "\n",
    "<tr>\n",
    "<td><p>Code</p></td>\n",
    "<td><p>$20$%</p></td>\n",
    "<td><p>April $3$rd</p></td>\n",
    "<td><p>$80$%</p></td>\n",
    "</tr>\n",
    "\n",
    "<tr>\n",
    "<td><p>Paper</p>\n",
    "</td><td><p>$5$%</p></td>\n",
    "<td><p>April $10$th</p></td>\n",
    "<td><p>$20$%</p></td>\n",
    "</tr>\n",
    "\n",
    "<tr>\n",
    "<td><p>Demo</p>\n",
    "</td><td><p>$0$%</p></td>\n",
    "<td><p>April $19$th</p></td>\n",
    "<td><p>$5$%</p></td>\n",
    "</tr>\n",
    "\n",
    "<tr>\n",
    "<td><p>Presentation</p>\n",
    "</td><td><p>$0$%</p></td>\n",
    "<td><p>April $19$th</p></td>\n",
    "<td><p>$5$%</p></td>\n",
    "</tr>\n",
    "\n",
    "</table>"
   ]
  },
  {
   "cell_type": "markdown",
   "metadata": {},
   "source": [
    "1. While no milestones were officially set prior to this one, we've thus far focused on data collection and string parsing. A script has been written to crawl specific transcript websites and pull the transcripts into a file. \n",
    "\n",
    "    To get the most mileage from our ideal RNN, we must transform words into dense vectors.  To accomplish this, we're using the word2vec paradigm[1]. Our current progress allows us to calculate the appropriate, custom word vectors for our specific dataset.\n",
    "\n",
    "    Additionally, since our aim is to enhance text generation with more dimensions, we've made use of NLTK[2] and its averaged perceptron part of speech tagger.  This, in conjunction with Keras' quick transformations of categorical information to one-hot vectors, allows us to pair words with their parts of speech.\n",
    "\n",
    "    Regarding metrics, we've decided to use a Markov transition matrix in addition to the previously-proposed Levenshtein distance for part of speech.  This will allow us to calculate the likelihood of some sequence of words based on the training data.  We will then have two types of quantitative metrics: one measuring structure and one measuring content.\n",
    "\n",
    "    We predict that $90$% of the codebase will parse and process the data, and the remaining $10$% will be the neural network code itself, and as such we're giving proper attention to the data processing code.\n",
    "\n",
    "2. Since no goals were previously set, no goals have not been accomplished to their anticipated percentage.\n",
    "\n",
    "3. For the next milestone on March $29$th, most of our text processing code shoud be done.  \n",
    "\n",
    "    Mike and Madison will work on cleansing the data as well as the general usability of word2vec.  The strings passed into the word2vec transformer must receive words which don't contain typos or are frequent enough.  Punctuation may be handled automatically by NLTK's tokenizer.  Special \"START\" and \"END\" tokens must prepend and append all sentences to aid in the RNN's learning of structure.\n",
    "\n",
    "    Brent and John will focus on RNN design theory and implementation in Keras.  There are some \"best practices\" which exist for neural models, and knowing these would be beneficial in model convergence down the road.  Having example code running on a smaller example will be a great launching pad as well.  Thus, the goal for the next milestone is to have a working Keras implementation of a character-level RNN so that we can have an understanding of how to feed data into an RNN and how to sample from its latent space.\n",
    "\n",
    "    Sam will continue work on the codes to enable quantification of results.  By the next milestone, we should be able to compare the Levenshtein distance between parts of speech of words as well as the likelihood of a sequence occuring, both as scalar values.  If neither of these metrics are sensible, then others will have to be found and implemented by March $29$th.\n"
   ]
  },
  {
   "cell_type": "markdown",
   "metadata": {},
   "source": [
    "#### References\n"
   ]
  },
  {
   "cell_type": "markdown",
   "metadata": {},
   "source": [
    "[1] Jurafsky and J. H. Martin, Speech and language processing: an introduction to natural language processing, computational linguistics, and speech recognition. India: Dorling Kindersley Pvt, Ltd., 2014.\n",
    "\n",
    "[2] “Source code for nltk.tag.perceptron,” nltk.tag.perceptron - NLTK 3.2.5 documentation. [Online]. Available: http://www.nltk.org/_modules/nltk/tag/perceptron.html. [Accessed: 16-Mar-2018]."
   ]
  },
  {
   "cell_type": "code",
   "execution_count": null,
   "metadata": {},
   "outputs": [],
   "source": []
  }
 ],
 "metadata": {
  "kernelspec": {
   "display_name": "Python 3",
   "language": "python",
   "name": "python3"
  },
  "language_info": {
   "codemirror_mode": {
    "name": "ipython",
    "version": 3
   },
   "file_extension": ".py",
   "mimetype": "text/x-python",
   "name": "python",
   "nbconvert_exporter": "python",
   "pygments_lexer": "ipython3",
   "version": "3.6.4"
  }
 },
 "nbformat": 4,
 "nbformat_minor": 2
}
