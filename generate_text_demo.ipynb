{
 "cells": [
  {
   "cell_type": "markdown",
   "metadata": {},
   "source": [
    "Once training is complete and the model weights have been saved, we can generate text."
   ]
  },
  {
   "cell_type": "code",
   "execution_count": 1,
   "metadata": {},
   "outputs": [
    {
     "name": "stderr",
     "output_type": "stream",
     "text": [
      "/home/csci4850/lib/python3.5/site-packages/h5py/__init__.py:36: FutureWarning: Conversion of the second argument of issubdtype from `float` to `np.floating` is deprecated. In future, it will be treated as `np.float64 == np.dtype(float).type`.\n",
      "  from ._conv import register_converters as _register_converters\n",
      "Using TensorFlow backend.\n"
     ]
    }
   ],
   "source": [
    "import numpy as np                                                                                           \n",
    "import sys                                                                                                   \n",
    "import os                                                                                                    \n",
    "import json                                                                                                  \n",
    "from tqdm import tqdm                                                                                        \n",
    "from keras.models import load_model                                                                          \n",
    "from keras.models import model_from_json                                                                     \n",
    "from keras import backend as K                                                                               \n",
    "import pickle     "
   ]
  },
  {
   "cell_type": "code",
   "execution_count": 2,
   "metadata": {},
   "outputs": [],
   "source": [
    "def dist(x,y):\n",
    "    s = 0\n",
    "    z = x-y\n",
    "\n",
    "    for element in z:\n",
    "        s += element**2\n",
    "    return np.sqrt(s)\n",
    "\n",
    "def closest(dictionary, vec):\n",
    "    min_dist = 1000000000000\n",
    "    for key,val in dictionary.items():\n",
    "        v = np.array(val)[0]\n",
    "\n",
    "        d = dist(v, vec)\n",
    "\n",
    "        if d < min_dist:\n",
    "            min_dist = d\n",
    "            closest = key\n",
    "            closest_vec = val\n",
    "    return closest, np.array(closest_vec)"
   ]
  },
  {
   "cell_type": "code",
   "execution_count": 3,
   "metadata": {},
   "outputs": [],
   "source": [
    "########## SET DIRECTORIES ##########\n",
    "DATA_DIR = os.path.join(\"data\", \"train\", \"cleaned\")\n",
    "MAPPING_FILE = os.path.join(\"utils\", \"mapping.pkl\")\n",
    "RNN_MODEL = os.path.join(\"models\", \"rnn_model.hdf5\")\n",
    "\n",
    "INCLUDE_POS = True \n",
    "NUM_POS_TAGS = 47\n",
    "\n",
    "########## IMPORT DATA ##########\n",
    "with open(MAPPING_FILE, 'rb') as f:\n",
    "    mapping = pickle.load(f)"
   ]
  },
  {
   "cell_type": "code",
   "execution_count": 4,
   "metadata": {},
   "outputs": [],
   "source": [
    "########## LOAD MODEL ##########\n",
    "model = load_model(RNN_MODEL)"
   ]
  },
  {
   "cell_type": "code",
   "execution_count": 9,
   "metadata": {},
   "outputs": [
    {
     "name": "stdout",
     "output_type": "stream",
     "text": [
      "(1, 1, 260)\n",
      "(1, 1, 260)\n"
     ]
    }
   ],
   "source": [
    "########## INIT ##########\n",
    "\n",
    "# set up start token\n",
    "token = mapping['ST']\n",
    "token = np.array(token)\n",
    "token = np.reshape(token, (1,) + token.shape)\n",
    "\n",
    "if INCLUDE_POS:\n",
    "    final_shape = token.shape[-1] + NUM_POS_TAGS \n",
    "else:\n",
    "    final_shape = token.shape[-1]\n",
    "\n",
    "tmp = np.zeros(shape=(1,1,final_shape))\n",
    "tmp[0,0,:len(token[0,0])] = token[0,0,:]\n",
    "token = tmp\n",
    "noise = np.random.rand(token.shape[0], token.shape[1], token.shape[2])\n",
    "noise /= 10 #small amount of noise\n",
    "\n",
    "print(token.shape)\n",
    "print(noise.shape)\n",
    "\n",
    "en_count = 0\n",
    "\n",
    "words = []\n",
    "words.append('ST')"
   ]
  },
  {
   "cell_type": "code",
   "execution_count": 10,
   "metadata": {},
   "outputs": [
    {
     "name": "stdout",
     "output_type": "stream",
     "text": [
      "ST EN\n",
      "pickle. a into myself turned i ST EN\n",
      "counseling? a into myself turned i ST EN\n",
      "pickle. a into i'm ST EN\n",
      "pickle. a into myself i ST EN\n",
      "counseling? of ST EN\n",
      "pickle. a into myself turned i ST EN\n",
      "pickle. a into myself myself turned i ST EN\n",
      "pickle. a into myself turned you do turned you do turned i if a into myself turned you do would do would ST EN\n",
      "this. do would ST EN\n",
      "pickle. a into myself i'm ST EN\n",
      "pickle. a into myself turned ST EN\n",
      "pickle. a into myself i ST EN\n",
      "pickle. a into myself turned i ST EN\n",
      "pickle! a i'm ST EN\n",
      "pickle. a into myself turned you i ST EN\n",
      "pickle. a into would ST EN\n",
      "pickle. a into myself myself myself myself turned i ST EN\n",
      "pickle. a into myself turned you do would ST EN\n",
      "man. a into would do turned i ST EN\n",
      "pickle. a into would ST EN\n",
      "pickle. a into myself turned i ST EN\n",
      "man. a into myself turned you ST EN\n",
      "pickle. i'm ST EN\n",
      "morty! pickle. a into myself would do turned i ST EN\n",
      "pickle. a into myself turned i ST EN\n",
      "pickle! and a into myself turned i if ST EN\n",
      "pickle. a into myself turned you i ST EN\n",
      "pickle! a into myself i'm ST EN\n",
      "pickle. a into myself you ST EN\n",
      "counseling? a into myself turned you can ST EN\n",
      "pickle. ST EN\n",
      "pickle. a into myself you do turned you do turned you do would do turned i ST EN\n",
      "pickle. a into myself i ST EN\n",
      "pickle. a into myself you i pickle i'm ST EN\n",
      "man. a into myself i'm ST EN\n",
      "pickle. a into myself turned i ST EN\n",
      "pickle. a into myself i'm ST EN\n",
      "pickle! a into myself turned i ST EN\n",
      "morty! ST EN\n",
      "man. a into myself turned ST EN\n",
      "morty! and pickle. a into would ST EN\n",
      "black pink a into myself turned i ST EN\n",
      "pickle. a into myself turned ST EN\n",
      "pickle. a into myself myself turned i ST EN\n",
      "pickle. a into myself i'm ST EN\n",
      "pickle. a myself turned you i ST EN\n",
      "pickle. a into myself i ST EN\n",
      "man. oh, ST EN\n",
      "pickle. a into myself turned you i if a into myself turned i ST EN\n",
      "impressed. slipped ST EN\n"
     ]
    }
   ],
   "source": [
    "########## GENERATE WORDS ##########\n",
    "\n",
    "print('ST', end=' ')\n",
    "\n",
    "while en_count <= 50:\n",
    "    out = model.predict([token, noise])\n",
    "\n",
    "    # snap the network's prediction to the closest real word, and also\n",
    "    # snap the network's prediction to the closest vector in our space\n",
    "    # so that it predicts with real words as previous values\n",
    "    closest_word, closest_vec = closest(mapping, out[0,0,:])\n",
    "    token = np.zeros(shape=out.shape)\n",
    "    token[0,0,:] = closest_vec\n",
    "\n",
    "    # fix shapes\n",
    "    tmp = np.zeros(shape=(1,1,final_shape))\n",
    "    tmp[0,0,:len(out[0,0])] = out[0,0,:]\n",
    "    out = tmp\n",
    "\n",
    "    tmp = np.zeros(shape=(1,1,final_shape))\n",
    "    tmp[0,0,:len(token[0,0])] = token[0,0,:]\n",
    "    token = tmp\n",
    "\n",
    "    noise = np.random.rand(token.shape[0], token.shape[1], token.shape[2])\n",
    "    noise /= 10\n",
    "\n",
    "    words.append(closest_word)\n",
    "    \n",
    "    if closest_word == \"EN\":\n",
    "        en_count += 1\n",
    "        print(closest_word)\n",
    "    else:\n",
    "        print(closest_word, end=' ')"
   ]
  },
  {
   "cell_type": "code",
   "execution_count": null,
   "metadata": {},
   "outputs": [],
   "source": [
    "INCLUDE_POS = False "
   ]
  },
  {
   "cell_type": "code",
   "execution_count": 9,
   "metadata": {},
   "outputs": [
    {
     "name": "stdout",
     "output_type": "stream",
     "text": [
      "(1, 1, 260)\n",
      "(1, 1, 260)\n"
     ]
    }
   ],
   "source": [
    "########## INIT ##########\n",
    "\n",
    "# set up start token\n",
    "token = mapping['ST']\n",
    "token = np.array(token)\n",
    "token = np.reshape(token, (1,) + token.shape)\n",
    "\n",
    "if INCLUDE_POS:\n",
    "    final_shape = token.shape[-1] + NUM_POS_TAGS \n",
    "else:\n",
    "    final_shape = token.shape[-1]\n",
    "\n",
    "tmp = np.zeros(shape=(1,1,final_shape))\n",
    "tmp[0,0,:len(token[0,0])] = token[0,0,:]\n",
    "token = tmp\n",
    "noise = np.random.rand(token.shape[0], token.shape[1], token.shape[2])\n",
    "noise /= 10 #small amount of noise\n",
    "\n",
    "print(token.shape)\n",
    "print(noise.shape)\n",
    "\n",
    "en_count = 0\n",
    "\n",
    "words = []\n",
    "words.append('ST')"
   ]
  },
  {
   "cell_type": "code",
   "execution_count": 10,
   "metadata": {},
   "outputs": [
    {
     "name": "stdout",
     "output_type": "stream",
     "text": [
      "ST EN\n",
      "pickle. a into myself turned i ST EN\n",
      "counseling? a into myself turned i ST EN\n",
      "pickle. a into i'm ST EN\n",
      "pickle. a into myself i ST EN\n",
      "counseling? of ST EN\n",
      "pickle. a into myself turned i ST EN\n",
      "pickle. a into myself myself turned i ST EN\n",
      "pickle. a into myself turned you do turned you do turned i if a into myself turned you do would do would ST EN\n",
      "this. do would ST EN\n",
      "pickle. a into myself i'm ST EN\n",
      "pickle. a into myself turned ST EN\n",
      "pickle. a into myself i ST EN\n",
      "pickle. a into myself turned i ST EN\n",
      "pickle! a i'm ST EN\n",
      "pickle. a into myself turned you i ST EN\n",
      "pickle. a into would ST EN\n",
      "pickle. a into myself myself myself myself turned i ST EN\n",
      "pickle. a into myself turned you do would ST EN\n",
      "man. a into would do turned i ST EN\n",
      "pickle. a into would ST EN\n",
      "pickle. a into myself turned i ST EN\n",
      "man. a into myself turned you ST EN\n",
      "pickle. i'm ST EN\n",
      "morty! pickle. a into myself would do turned i ST EN\n",
      "pickle. a into myself turned i ST EN\n",
      "pickle! and a into myself turned i if ST EN\n",
      "pickle. a into myself turned you i ST EN\n",
      "pickle! a into myself i'm ST EN\n",
      "pickle. a into myself you ST EN\n",
      "counseling? a into myself turned you can ST EN\n",
      "pickle. ST EN\n",
      "pickle. a into myself you do turned you do turned you do would do turned i ST EN\n",
      "pickle. a into myself i ST EN\n",
      "pickle. a into myself you i pickle i'm ST EN\n",
      "man. a into myself i'm ST EN\n",
      "pickle. a into myself turned i ST EN\n",
      "pickle. a into myself i'm ST EN\n",
      "pickle! a into myself turned i ST EN\n",
      "morty! ST EN\n",
      "man. a into myself turned ST EN\n",
      "morty! and pickle. a into would ST EN\n",
      "black pink a into myself turned i ST EN\n",
      "pickle. a into myself turned ST EN\n",
      "pickle. a into myself myself turned i ST EN\n",
      "pickle. a into myself i'm ST EN\n",
      "pickle. a myself turned you i ST EN\n",
      "pickle. a into myself i ST EN\n",
      "man. oh, ST EN\n",
      "pickle. a into myself turned you i if a into myself turned i ST EN\n",
      "impressed. slipped ST EN\n"
     ]
    }
   ],
   "source": [
    "########## GENERATE WORDS ##########\n",
    "\n",
    "print('ST', end=' ')\n",
    "\n",
    "while en_count <= 50:\n",
    "    out = model.predict([token, noise])\n",
    "\n",
    "    # snap the network's prediction to the closest real word, and also\n",
    "    # snap the network's prediction to the closest vector in our space\n",
    "    # so that it predicts with real words as previous values\n",
    "    closest_word, closest_vec = closest(mapping, out[0,0,:])\n",
    "    token = np.zeros(shape=out.shape)\n",
    "    token[0,0,:] = closest_vec\n",
    "\n",
    "    # fix shapes\n",
    "    tmp = np.zeros(shape=(1,1,final_shape))\n",
    "    tmp[0,0,:len(out[0,0])] = out[0,0,:]\n",
    "    out = tmp\n",
    "\n",
    "    tmp = np.zeros(shape=(1,1,final_shape))\n",
    "    tmp[0,0,:len(token[0,0])] = token[0,0,:]\n",
    "    token = tmp\n",
    "\n",
    "    noise = np.random.rand(token.shape[0], token.shape[1], token.shape[2])\n",
    "    noise /= 10\n",
    "\n",
    "    words.append(closest_word)\n",
    "    \n",
    "    if closest_word == \"EN\":\n",
    "        en_count += 1\n",
    "        print(closest_word)\n",
    "    else:\n",
    "        print(closest_word, end=' ')"
   ]
  }
 ],
 "metadata": {
  "kernelspec": {
   "display_name": "Python 3",
   "language": "python",
   "name": "python3"
  },
  "language_info": {
   "codemirror_mode": {
    "name": "ipython",
    "version": 3
   },
   "file_extension": ".py",
   "mimetype": "text/x-python",
   "name": "python",
   "nbconvert_exporter": "python",
   "pygments_lexer": "ipython3",
   "version": "3.5.3"
  }
 },
 "nbformat": 4,
 "nbformat_minor": 2
}
